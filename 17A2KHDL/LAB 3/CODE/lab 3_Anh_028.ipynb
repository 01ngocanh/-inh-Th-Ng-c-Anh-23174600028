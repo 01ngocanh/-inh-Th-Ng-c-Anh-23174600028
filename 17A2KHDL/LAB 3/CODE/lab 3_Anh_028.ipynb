{
 "cells": [
  {
   "cell_type": "markdown",
   "metadata": {},
   "source": [
    "#### LAB 3.1\n"
   ]
  },
  {
   "cell_type": "code",
   "execution_count": 2,
   "metadata": {},
   "outputs": [
    {
     "name": "stdout",
     "output_type": "stream",
     "text": [
      "5 dòng đầu tiên của stocks1:\n",
      "       date symbol     open     high      low    close   volume\n",
      "0  01-03-19   AMZN  1655.13  1674.26  1651.00  1671.73  4974877\n",
      "1  04-03-19   AMZN  1685.00  1709.43  1674.36  1696.17  6167358\n",
      "2  05-03-19   AMZN  1702.95  1707.80  1689.01  1692.43  3681522\n",
      "3  06-03-19   AMZN  1695.97      NaN      NaN  1668.95  3996001\n",
      "4  07-03-19   AMZN  1667.37  1669.75  1620.51  1625.95  4957017\n",
      "\n",
      "Kiểu dữ liệu của mỗi cột trong stocks1:\n",
      "date       object\n",
      "symbol     object\n",
      "open      float64\n",
      "high      float64\n",
      "low       float64\n",
      "close     float64\n",
      "volume      int64\n",
      "dtype: object\n",
      "\n",
      "Thông tin tổng quan về stocks1:\n",
      "<class 'pandas.core.frame.DataFrame'>\n",
      "RangeIndex: 15 entries, 0 to 14\n",
      "Data columns (total 7 columns):\n",
      " #   Column  Non-Null Count  Dtype  \n",
      "---  ------  --------------  -----  \n",
      " 0   date    15 non-null     object \n",
      " 1   symbol  15 non-null     object \n",
      " 2   open    15 non-null     float64\n",
      " 3   high    13 non-null     float64\n",
      " 4   low     13 non-null     float64\n",
      " 5   close   15 non-null     float64\n",
      " 6   volume  15 non-null     int64  \n",
      "dtypes: float64(4), int64(1), object(2)\n",
      "memory usage: 972.0+ bytes\n",
      "None\n"
     ]
    }
   ],
   "source": [
    "import pandas as pd\n",
    "\n",
    "# 1. Đọc file stocks1.csv vào DataFrame\n",
    "stocks1 = pd.read_csv('D:/17A2KHDL/LAB 3/DATA/stocks1.csv')\n",
    "\n",
    "# 2. Hiển thị 5 dòng đầu tiên của stocks1\n",
    "print(\"5 dòng đầu tiên của stocks1:\")\n",
    "print(stocks1.head())\n",
    "\n",
    "# 3. Hiển thị kiểu dữ liệu (dtype) của mỗi cột\n",
    "print(\"\\nKiểu dữ liệu của mỗi cột trong stocks1:\")\n",
    "print(stocks1.dtypes)\n",
    "\n",
    "# 4. Xem thông tin tổng quan (info) của stocks1\n",
    "print(\"\\nThông tin tổng quan về stocks1:\")\n",
    "print(stocks1.info())\n"
   ]
  },
  {
   "cell_type": "markdown",
   "metadata": {},
   "source": []
  },
  {
   "cell_type": "markdown",
   "metadata": {},
   "source": [
    "#### LAB 3.2\n"
   ]
  },
  {
   "cell_type": "code",
   "execution_count": 3,
   "metadata": {},
   "outputs": [
    {
     "name": "stdout",
     "output_type": "stream",
     "text": [
      "\n",
      "Kiểm tra dữ liệu Null trong stocks1:\n",
      "date      0\n",
      "symbol    0\n",
      "open      0\n",
      "high      2\n",
      "low       2\n",
      "close     0\n",
      "volume    0\n",
      "dtype: int64\n",
      "\n",
      "Thông tin tổng quan sau khi xử lý Null:\n",
      "<class 'pandas.core.frame.DataFrame'>\n",
      "RangeIndex: 15 entries, 0 to 14\n",
      "Data columns (total 7 columns):\n",
      " #   Column  Non-Null Count  Dtype  \n",
      "---  ------  --------------  -----  \n",
      " 0   date    15 non-null     object \n",
      " 1   symbol  15 non-null     object \n",
      " 2   open    15 non-null     float64\n",
      " 3   high    15 non-null     float64\n",
      " 4   low     15 non-null     float64\n",
      " 5   close   15 non-null     float64\n",
      " 6   volume  15 non-null     int64  \n",
      "dtypes: float64(4), int64(1), object(2)\n",
      "memory usage: 972.0+ bytes\n",
      "None\n"
     ]
    },
    {
     "name": "stderr",
     "output_type": "stream",
     "text": [
      "C:\\Users\\OS\\AppData\\Local\\Temp\\ipykernel_2352\\3933882324.py:8: FutureWarning: A value is trying to be set on a copy of a DataFrame or Series through chained assignment using an inplace method.\n",
      "The behavior will change in pandas 3.0. This inplace method will never work because the intermediate object on which we are setting values always behaves as a copy.\n",
      "\n",
      "For example, when doing 'df[col].method(value, inplace=True)', try using 'df.method({col: value}, inplace=True)' or df[col] = df[col].method(value) instead, to perform the operation inplace on the original object.\n",
      "\n",
      "\n",
      "  stocks1['high'].fillna(high_mean, inplace=True)\n",
      "C:\\Users\\OS\\AppData\\Local\\Temp\\ipykernel_2352\\3933882324.py:13: FutureWarning: A value is trying to be set on a copy of a DataFrame or Series through chained assignment using an inplace method.\n",
      "The behavior will change in pandas 3.0. This inplace method will never work because the intermediate object on which we are setting values always behaves as a copy.\n",
      "\n",
      "For example, when doing 'df[col].method(value, inplace=True)', try using 'df.method({col: value}, inplace=True)' or df[col] = df[col].method(value) instead, to perform the operation inplace on the original object.\n",
      "\n",
      "\n",
      "  stocks1['low'].fillna(low_mean, inplace=True)\n"
     ]
    }
   ],
   "source": [
    "# 1. Kiểm tra dữ liệu Null\n",
    "print(\"\\nKiểm tra dữ liệu Null trong stocks1:\")\n",
    "print(stocks1.isnull().sum())\n",
    "\n",
    "# 2. Thay thế Null ở cột 'high' bằng giá trị trung bình\n",
    "if 'high' in stocks1.columns:\n",
    "    high_mean = stocks1['high'].mean()\n",
    "    stocks1['high'].fillna(high_mean, inplace=True)\n",
    "\n",
    "# 3. Thay thế Null ở cột 'low' bằng giá trị trung bình\n",
    "if 'low' in stocks1.columns:\n",
    "    low_mean = stocks1['low'].mean()\n",
    "    stocks1['low'].fillna(low_mean, inplace=True)\n",
    "\n",
    "# 4. Hiển thị thông tin tổng quan để xác nhận không còn Null\n",
    "print(\"\\nThông tin tổng quan sau khi xử lý Null:\")\n",
    "print(stocks1.info())\n"
   ]
  },
  {
   "cell_type": "markdown",
   "metadata": {},
   "source": [
    "#### LAB 3.3\n"
   ]
  },
  {
   "cell_type": "code",
   "execution_count": 6,
   "metadata": {},
   "outputs": [
    {
     "name": "stdout",
     "output_type": "stream",
     "text": [
      "Dữ liệu gộp từ stocks1 và stocks2:\n",
      "       date symbol     open         high          low    close   volume\n",
      "0  01-03-19   AMZN  1655.13  1674.260000  1651.000000  1671.73  4974877\n",
      "1  04-03-19   AMZN  1685.00  1709.430000  1674.360000  1696.17  6167358\n",
      "2  05-03-19   AMZN  1702.95  1707.800000  1689.010000  1692.43  3681522\n",
      "3  06-03-19   AMZN  1695.97   943.511538   926.775385  1668.95  3996001\n",
      "4  07-03-19   AMZN  1667.37  1669.750000  1620.510000  1625.95  4957017\n",
      "\n",
      "Giá trung bình (open, high, low, close) cho mỗi ngày:\n",
      "             open        high         low    close\n",
      "date                                              \n",
      "01-03-19  684.770  692.528400  680.446000  688.952\n",
      "04-03-19  693.940  702.392000  685.126000  694.510\n",
      "05-03-19  695.664  656.638308  645.395077  695.558\n",
      "06-03-19  696.502  548.329468  540.373077  690.016\n",
      "07-03-19  689.460  691.478000  673.860000  677.494\n"
     ]
    }
   ],
   "source": [
    "# 1. Đọc file stocks2.csv vào DataFrame\n",
    "stocks2 = pd.read_csv('D:/17A2KHDL/LAB 3/DATA/stocks2.csv')\n",
    "\n",
    "# 2. Gộp stocks1 và stocks2 thành DataFrame mới tên là stocks\n",
    "stocks = pd.concat([stocks1, stocks2], ignore_index=True)\n",
    "print(\"Dữ liệu gộp từ stocks1 và stocks2:\")\n",
    "print(stocks.head())\n",
    "\n",
    "# 3. Tính giá trung bình (open, high, low, close) cho mỗi ngày\n",
    "gtra_tb = stocks.groupby('date')[['open', 'high', 'low', 'close']].mean()\n",
    "\n",
    "# 4. Hiển thị 5 dòng đầu tiên của kết quả\n",
    "print(\"\\nGiá trung bình (open, high, low, close) cho mỗi ngày:\")\n",
    "print(gtra_tb.head())\n"
   ]
  },
  {
   "cell_type": "markdown",
   "metadata": {},
   "source": [
    "#### LAB 3.4\n"
   ]
  },
  {
   "cell_type": "code",
   "execution_count": 7,
   "metadata": {},
   "outputs": [
    {
     "name": "stdout",
     "output_type": "stream",
     "text": [
      "\n",
      "Dữ liệu từ companies:\n",
      "   name  employees headquarters_city headquarters_state\n",
      "0  AMZN     613300           Seattle                 WA\n",
      "1  GOOG      98771     Mountain View                 CA\n",
      "2  AAPL     132000         Cupertino                 CA\n",
      "3    FB      48268        Menlo Park                 CA\n",
      "4  TSLA      48016         Palo Alto                 CA\n",
      "\n",
      "Giá đóng cửa trung bình cho mỗi công ty:\n",
      "symbol\n",
      "AAPL     174.674\n",
      "AMZN    1671.046\n",
      "FB       168.510\n",
      "GOOG    1150.396\n",
      "TSLA     281.904\n",
      "Name: close, dtype: float64\n"
     ]
    }
   ],
   "source": [
    "# 1. Đọc file companies.csv vào DataFrame\n",
    "companies = pd.read_csv('D:/17A2KHDL/LAB 3/DATA/companies.csv')\n",
    "\n",
    "# 2. Hiển thị 5 dòng đầu tiên của companies\n",
    "print(\"\\nDữ liệu từ companies:\")\n",
    "print(companies.head())\n",
    "\n",
    "# 3. Kết hợp stocks và companies dựa trên cột chung là 'symbol'\n",
    "companies.rename(columns={\"name\": \"symbol\"}, inplace=True)\n",
    "ket_hop = pd.merge(stocks, companies, on='symbol', how='inner')\n",
    "\n",
    "# 4. Tính giá đóng cửa (close) trung bình cho mỗi công ty\n",
    "gia_dong_cua_tb_cty = ket_hop.groupby('symbol')['close'].mean()\n",
    "\n",
    "# 5. Hiển thị kết quả cho 5 công ty đầu tiên\n",
    "print(\"\\nGiá đóng cửa trung bình cho mỗi công ty:\")\n",
    "print(gia_dong_cua_tb_cty.head())\n"
   ]
  },
  {
   "cell_type": "markdown",
   "metadata": {},
   "source": [
    "#### LAB 3.5\n"
   ]
  },
  {
   "cell_type": "code",
   "execution_count": 8,
   "metadata": {},
   "outputs": [
    {
     "name": "stdout",
     "output_type": "stream",
     "text": [
      "Kết quả sau khi sử dụng MultiIndex và GroupBy (5 ngày đầu tiên):\n",
      "                    open      high      low    close      volume\n",
      "date     symbol                                                 \n",
      "01-03-19 AAPL     174.28   175.150   172.89   174.97  25886167.0\n",
      "         AMZN    1655.13  1674.260  1651.00  1671.73   4974877.0\n",
      "         FB       162.60   163.132   161.69   162.28  11097770.0\n",
      "         GOOG    1124.90  1142.970  1124.75  1140.99   1450316.0\n",
      "         TSLA     306.94   307.130   291.90   294.79  22911375.0\n"
     ]
    }
   ],
   "source": [
    "# 1. Tạo MultiIndex cho DataFrame stocks với cột date và symbol\n",
    "stocks.set_index(['date', 'symbol'], inplace=True)\n",
    "\n",
    "# 2. Sử dụng GroupBy để tính giá trung bình (open, high, low, close) và volume trung bình cho mỗi ngày, mỗi mã chứng khoán\n",
    "gia_tb = stocks.groupby(['date', 'symbol']).mean()\n",
    "\n",
    "# 3. Sắp xếp dữ liệu theo ngày và mã chứng khoán\n",
    "sap_xep = gia_tb.sort_index()\n",
    "\n",
    "# 4. Hiển thị kết quả cho 5 ngày đầu tiên\n",
    "print(\"Kết quả sau khi sử dụng MultiIndex và GroupBy (5 ngày đầu tiên):\")\n",
    "print(sap_xep.head())\n"
   ]
  },
  {
   "cell_type": "markdown",
   "metadata": {},
   "source": [
    "#### LAB 3.6\n"
   ]
  },
  {
   "cell_type": "code",
   "execution_count": 9,
   "metadata": {},
   "outputs": [
    {
     "name": "stdout",
     "output_type": "stream",
     "text": [
      "\n",
      "Pivot Table (5 mã chứng khoán có tổng volume giao dịch cao nhất):\n",
      "symbol      AAPL     AMZN      FB     GOOG    TSLA  Total Volume\n",
      "date                                                            \n",
      "01-03-19  174.97  1671.73  162.28  1140.99  294.79           NaN\n",
      "04-03-19  175.85  1696.17  167.37  1147.80  285.36           NaN\n",
      "05-03-19  175.53  1692.43  171.26  1162.03  276.54           NaN\n",
      "06-03-19  174.52  1668.95  172.51  1157.86  276.24           NaN\n",
      "07-03-19  172.50  1625.95  169.13  1143.30  276.59           NaN\n"
     ]
    }
   ],
   "source": [
    "# 1. Tạo Pivot Table với date làm chỉ mục, symbol làm cột, và giá trị trung bình của close\n",
    "pivot_table = stocks.reset_index().pivot_table(\n",
    "    values='close',\n",
    "    index='date',\n",
    "    columns='symbol',\n",
    "    aggfunc='mean')\n",
    "\n",
    "# 2. Thêm một cột tính tổng volume giao dịch cho mỗi mã chứng khoán\n",
    "tong_volume = stocks.groupby('symbol')['volume'].sum()\n",
    "pivot_table['Total Volume'] = tong_volume\n",
    "\n",
    "# 3. Sắp xếp Pivot Table dựa trên tổng volume giao dịch, từ cao xuống thấp\n",
    "sap_xep_bang_pivot = pivot_table.sort_values(by='Total Volume', ascending=False)\n",
    "\n",
    "# 4. Hiển thị kết quả cho 5 mã chứng khoán có tổng volume giao dịch cao nhất\n",
    "print(\"\\nPivot Table (5 mã chứng khoán có tổng volume giao dịch cao nhất):\")\n",
    "print(sap_xep_bang_pivot.head())\n"
   ]
  }
 ],
 "metadata": {
  "kernelspec": {
   "display_name": "base",
   "language": "python",
   "name": "python3"
  },
  "language_info": {
   "codemirror_mode": {
    "name": "ipython",
    "version": 3
   },
   "file_extension": ".py",
   "mimetype": "text/x-python",
   "name": "python",
   "nbconvert_exporter": "python",
   "pygments_lexer": "ipython3",
   "version": "3.12.4"
  }
 },
 "nbformat": 4,
 "nbformat_minor": 2
}
