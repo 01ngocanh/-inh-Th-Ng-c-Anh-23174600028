{
 "cells": [
  {
   "cell_type": "markdown",
   "metadata": {},
   "source": [
    "#### bài 4.1"
   ]
  },
  {
   "cell_type": "code",
   "execution_count": 3,
   "metadata": {},
   "outputs": [
    {
     "name": "stdout",
     "output_type": "stream",
     "text": [
      "series tu danh sach: \n",
      " 0     a\n",
      "1     b\n",
      "2     c\n",
      "3     e\n",
      "4     d\n",
      "5     f\n",
      "6     g\n",
      "7     h\n",
      "8     i\n",
      "9     j\n",
      "10    k\n",
      "11    l\n",
      "12    m\n",
      "13    n\n",
      "14    o\n",
      "15    p\n",
      "16    q\n",
      "17    r\n",
      "18    s\n",
      "19    t\n",
      "20    u\n",
      "21    v\n",
      "22    w\n",
      "23    x\n",
      "24    y\n",
      "25    z\n",
      "dtype: object\n",
      "series tu arr:\n",
      " 0      0\n",
      "1      1\n",
      "2      2\n",
      "3      3\n",
      "4      4\n",
      "5      5\n",
      "6      6\n",
      "7      7\n",
      "8      8\n",
      "9      9\n",
      "10    10\n",
      "11    11\n",
      "12    12\n",
      "13    13\n",
      "14    14\n",
      "15    15\n",
      "16    16\n",
      "17    17\n",
      "18    18\n",
      "19    19\n",
      "20    20\n",
      "21    21\n",
      "22    22\n",
      "23    23\n",
      "24    24\n",
      "25    25\n",
      "dtype: int32\n",
      "series tu dict:\n",
      " a     0\n",
      "b     1\n",
      "c     2\n",
      "e     3\n",
      "d     4\n",
      "f     5\n",
      "g     6\n",
      "h     7\n",
      "i     8\n",
      "j     9\n",
      "k    10\n",
      "l    11\n",
      "m    12\n",
      "n    13\n",
      "o    14\n",
      "p    15\n",
      "q    16\n",
      "r    17\n",
      "s    18\n",
      "t    19\n",
      "u    20\n",
      "v    21\n",
      "w    22\n",
      "x    23\n",
      "y    24\n",
      "z    25\n",
      "dtype: int32\n"
     ]
    }
   ],
   "source": [
    "import numpy as np\n",
    "import pandas as pd\n",
    "mylist = list('abcedfghijklmnopqrstuvwxyz')\n",
    "myarr = np.arange(26)\n",
    "mydict = dict(zip(mylist, myarr))\n",
    "\n",
    "chuoi_list = pd.Series(mylist)\n",
    "chuoi_arr = pd.Series(myarr)\n",
    "chuoi_dict = pd.Series(mydict)\n",
    "\n",
    "print(\"series tu danh sach: \\n\",chuoi_list)\n",
    "print(\"series tu arr:\\n\",chuoi_arr)\n",
    "print(\"series tu dict:\\n\",chuoi_dict)"
   ]
  },
  {
   "cell_type": "markdown",
   "metadata": {},
   "source": [
    "#### bai 4.2"
   ]
  },
  {
   "cell_type": "code",
   "execution_count": 4,
   "metadata": {},
   "outputs": [
    {
     "data": {
      "text/html": [
       "<div>\n",
       "<style scoped>\n",
       "    .dataframe tbody tr th:only-of-type {\n",
       "        vertical-align: middle;\n",
       "    }\n",
       "\n",
       "    .dataframe tbody tr th {\n",
       "        vertical-align: top;\n",
       "    }\n",
       "\n",
       "    .dataframe thead th {\n",
       "        text-align: right;\n",
       "    }\n",
       "</style>\n",
       "<table border=\"1\" class=\"dataframe\">\n",
       "  <thead>\n",
       "    <tr style=\"text-align: right;\">\n",
       "      <th></th>\n",
       "      <th>Character</th>\n",
       "      <th>Value</th>\n",
       "    </tr>\n",
       "  </thead>\n",
       "  <tbody>\n",
       "    <tr>\n",
       "      <th>0</th>\n",
       "      <td>a</td>\n",
       "      <td>0</td>\n",
       "    </tr>\n",
       "    <tr>\n",
       "      <th>1</th>\n",
       "      <td>b</td>\n",
       "      <td>1</td>\n",
       "    </tr>\n",
       "    <tr>\n",
       "      <th>2</th>\n",
       "      <td>c</td>\n",
       "      <td>2</td>\n",
       "    </tr>\n",
       "    <tr>\n",
       "      <th>3</th>\n",
       "      <td>e</td>\n",
       "      <td>3</td>\n",
       "    </tr>\n",
       "    <tr>\n",
       "      <th>4</th>\n",
       "      <td>d</td>\n",
       "      <td>4</td>\n",
       "    </tr>\n",
       "    <tr>\n",
       "      <th>5</th>\n",
       "      <td>f</td>\n",
       "      <td>5</td>\n",
       "    </tr>\n",
       "    <tr>\n",
       "      <th>6</th>\n",
       "      <td>g</td>\n",
       "      <td>6</td>\n",
       "    </tr>\n",
       "    <tr>\n",
       "      <th>7</th>\n",
       "      <td>h</td>\n",
       "      <td>7</td>\n",
       "    </tr>\n",
       "    <tr>\n",
       "      <th>8</th>\n",
       "      <td>i</td>\n",
       "      <td>8</td>\n",
       "    </tr>\n",
       "    <tr>\n",
       "      <th>9</th>\n",
       "      <td>j</td>\n",
       "      <td>9</td>\n",
       "    </tr>\n",
       "    <tr>\n",
       "      <th>10</th>\n",
       "      <td>k</td>\n",
       "      <td>10</td>\n",
       "    </tr>\n",
       "    <tr>\n",
       "      <th>11</th>\n",
       "      <td>l</td>\n",
       "      <td>11</td>\n",
       "    </tr>\n",
       "    <tr>\n",
       "      <th>12</th>\n",
       "      <td>m</td>\n",
       "      <td>12</td>\n",
       "    </tr>\n",
       "    <tr>\n",
       "      <th>13</th>\n",
       "      <td>n</td>\n",
       "      <td>13</td>\n",
       "    </tr>\n",
       "    <tr>\n",
       "      <th>14</th>\n",
       "      <td>o</td>\n",
       "      <td>14</td>\n",
       "    </tr>\n",
       "    <tr>\n",
       "      <th>15</th>\n",
       "      <td>p</td>\n",
       "      <td>15</td>\n",
       "    </tr>\n",
       "    <tr>\n",
       "      <th>16</th>\n",
       "      <td>q</td>\n",
       "      <td>16</td>\n",
       "    </tr>\n",
       "    <tr>\n",
       "      <th>17</th>\n",
       "      <td>r</td>\n",
       "      <td>17</td>\n",
       "    </tr>\n",
       "    <tr>\n",
       "      <th>18</th>\n",
       "      <td>s</td>\n",
       "      <td>18</td>\n",
       "    </tr>\n",
       "    <tr>\n",
       "      <th>19</th>\n",
       "      <td>t</td>\n",
       "      <td>19</td>\n",
       "    </tr>\n",
       "    <tr>\n",
       "      <th>20</th>\n",
       "      <td>u</td>\n",
       "      <td>20</td>\n",
       "    </tr>\n",
       "    <tr>\n",
       "      <th>21</th>\n",
       "      <td>v</td>\n",
       "      <td>21</td>\n",
       "    </tr>\n",
       "    <tr>\n",
       "      <th>22</th>\n",
       "      <td>w</td>\n",
       "      <td>22</td>\n",
       "    </tr>\n",
       "    <tr>\n",
       "      <th>23</th>\n",
       "      <td>x</td>\n",
       "      <td>23</td>\n",
       "    </tr>\n",
       "    <tr>\n",
       "      <th>24</th>\n",
       "      <td>y</td>\n",
       "      <td>24</td>\n",
       "    </tr>\n",
       "    <tr>\n",
       "      <th>25</th>\n",
       "      <td>z</td>\n",
       "      <td>25</td>\n",
       "    </tr>\n",
       "  </tbody>\n",
       "</table>\n",
       "</div>"
      ],
      "text/plain": [
       "   Character  Value\n",
       "0          a      0\n",
       "1          b      1\n",
       "2          c      2\n",
       "3          e      3\n",
       "4          d      4\n",
       "5          f      5\n",
       "6          g      6\n",
       "7          h      7\n",
       "8          i      8\n",
       "9          j      9\n",
       "10         k     10\n",
       "11         l     11\n",
       "12         m     12\n",
       "13         n     13\n",
       "14         o     14\n",
       "15         p     15\n",
       "16         q     16\n",
       "17         r     17\n",
       "18         s     18\n",
       "19         t     19\n",
       "20         u     20\n",
       "21         v     21\n",
       "22         w     22\n",
       "23         x     23\n",
       "24         y     24\n",
       "25         z     25"
      ]
     },
     "execution_count": 4,
     "metadata": {},
     "output_type": "execute_result"
    }
   ],
   "source": [
    "mylist = list('abcedfghijklmnopqrstuvwxyz')\n",
    "myarr = np.arange(26)\n",
    "mydict = dict(zip(mylist, myarr))\n",
    "ser = pd.Series(mydict)\n",
    "\n",
    "df=ser.reset_index()\n",
    "df.columns = ['Character','Value']\n",
    "\n",
    "df"
   ]
  },
  {
   "cell_type": "markdown",
   "metadata": {},
   "source": [
    "#### bai 4.3"
   ]
  },
  {
   "cell_type": "code",
   "execution_count": 5,
   "metadata": {},
   "outputs": [
    {
     "data": {
      "text/html": [
       "<div>\n",
       "<style scoped>\n",
       "    .dataframe tbody tr th:only-of-type {\n",
       "        vertical-align: middle;\n",
       "    }\n",
       "\n",
       "    .dataframe tbody tr th {\n",
       "        vertical-align: top;\n",
       "    }\n",
       "\n",
       "    .dataframe thead th {\n",
       "        text-align: right;\n",
       "    }\n",
       "</style>\n",
       "<table border=\"1\" class=\"dataframe\">\n",
       "  <thead>\n",
       "    <tr style=\"text-align: right;\">\n",
       "      <th></th>\n",
       "      <th>Column1</th>\n",
       "      <th>Column2</th>\n",
       "    </tr>\n",
       "  </thead>\n",
       "  <tbody>\n",
       "    <tr>\n",
       "      <th>0</th>\n",
       "      <td>a</td>\n",
       "      <td>0</td>\n",
       "    </tr>\n",
       "    <tr>\n",
       "      <th>1</th>\n",
       "      <td>b</td>\n",
       "      <td>1</td>\n",
       "    </tr>\n",
       "    <tr>\n",
       "      <th>2</th>\n",
       "      <td>c</td>\n",
       "      <td>2</td>\n",
       "    </tr>\n",
       "    <tr>\n",
       "      <th>3</th>\n",
       "      <td>e</td>\n",
       "      <td>3</td>\n",
       "    </tr>\n",
       "    <tr>\n",
       "      <th>4</th>\n",
       "      <td>d</td>\n",
       "      <td>4</td>\n",
       "    </tr>\n",
       "    <tr>\n",
       "      <th>5</th>\n",
       "      <td>f</td>\n",
       "      <td>5</td>\n",
       "    </tr>\n",
       "    <tr>\n",
       "      <th>6</th>\n",
       "      <td>g</td>\n",
       "      <td>6</td>\n",
       "    </tr>\n",
       "    <tr>\n",
       "      <th>7</th>\n",
       "      <td>h</td>\n",
       "      <td>7</td>\n",
       "    </tr>\n",
       "    <tr>\n",
       "      <th>8</th>\n",
       "      <td>i</td>\n",
       "      <td>8</td>\n",
       "    </tr>\n",
       "    <tr>\n",
       "      <th>9</th>\n",
       "      <td>j</td>\n",
       "      <td>9</td>\n",
       "    </tr>\n",
       "    <tr>\n",
       "      <th>10</th>\n",
       "      <td>k</td>\n",
       "      <td>10</td>\n",
       "    </tr>\n",
       "    <tr>\n",
       "      <th>11</th>\n",
       "      <td>l</td>\n",
       "      <td>11</td>\n",
       "    </tr>\n",
       "    <tr>\n",
       "      <th>12</th>\n",
       "      <td>m</td>\n",
       "      <td>12</td>\n",
       "    </tr>\n",
       "    <tr>\n",
       "      <th>13</th>\n",
       "      <td>n</td>\n",
       "      <td>13</td>\n",
       "    </tr>\n",
       "    <tr>\n",
       "      <th>14</th>\n",
       "      <td>o</td>\n",
       "      <td>14</td>\n",
       "    </tr>\n",
       "    <tr>\n",
       "      <th>15</th>\n",
       "      <td>p</td>\n",
       "      <td>15</td>\n",
       "    </tr>\n",
       "    <tr>\n",
       "      <th>16</th>\n",
       "      <td>q</td>\n",
       "      <td>16</td>\n",
       "    </tr>\n",
       "    <tr>\n",
       "      <th>17</th>\n",
       "      <td>r</td>\n",
       "      <td>17</td>\n",
       "    </tr>\n",
       "    <tr>\n",
       "      <th>18</th>\n",
       "      <td>s</td>\n",
       "      <td>18</td>\n",
       "    </tr>\n",
       "    <tr>\n",
       "      <th>19</th>\n",
       "      <td>t</td>\n",
       "      <td>19</td>\n",
       "    </tr>\n",
       "    <tr>\n",
       "      <th>20</th>\n",
       "      <td>u</td>\n",
       "      <td>20</td>\n",
       "    </tr>\n",
       "    <tr>\n",
       "      <th>21</th>\n",
       "      <td>v</td>\n",
       "      <td>21</td>\n",
       "    </tr>\n",
       "    <tr>\n",
       "      <th>22</th>\n",
       "      <td>w</td>\n",
       "      <td>22</td>\n",
       "    </tr>\n",
       "    <tr>\n",
       "      <th>23</th>\n",
       "      <td>x</td>\n",
       "      <td>23</td>\n",
       "    </tr>\n",
       "    <tr>\n",
       "      <th>24</th>\n",
       "      <td>y</td>\n",
       "      <td>24</td>\n",
       "    </tr>\n",
       "    <tr>\n",
       "      <th>25</th>\n",
       "      <td>z</td>\n",
       "      <td>25</td>\n",
       "    </tr>\n",
       "  </tbody>\n",
       "</table>\n",
       "</div>"
      ],
      "text/plain": [
       "   Column1  Column2\n",
       "0        a        0\n",
       "1        b        1\n",
       "2        c        2\n",
       "3        e        3\n",
       "4        d        4\n",
       "5        f        5\n",
       "6        g        6\n",
       "7        h        7\n",
       "8        i        8\n",
       "9        j        9\n",
       "10       k       10\n",
       "11       l       11\n",
       "12       m       12\n",
       "13       n       13\n",
       "14       o       14\n",
       "15       p       15\n",
       "16       q       16\n",
       "17       r       17\n",
       "18       s       18\n",
       "19       t       19\n",
       "20       u       20\n",
       "21       v       21\n",
       "22       w       22\n",
       "23       x       23\n",
       "24       y       24\n",
       "25       z       25"
      ]
     },
     "execution_count": 5,
     "metadata": {},
     "output_type": "execute_result"
    }
   ],
   "source": [
    "import numpy as np\n",
    "ser1 = pd.Series(list('abcedfghijklmnopqrstuvwxyz'))\n",
    "ser2 = pd.Series(np.arange(26))\n",
    "\n",
    "ket_hop = pd.DataFrame({'Column1': ser1, 'Column2': ser2})\n",
    "ket_hop"
   ]
  },
  {
   "cell_type": "markdown",
   "metadata": {},
   "source": [
    "#### bai 4.4"
   ]
  },
  {
   "cell_type": "code",
   "execution_count": 10,
   "metadata": {},
   "outputs": [
    {
     "name": "stdout",
     "output_type": "stream",
     "text": [
      "ser1 sau khi xoa cac muc co mat trong ser2:\n",
      " 0    1\n",
      "1    2\n",
      "2    3\n",
      "dtype: int64\n",
      "lay tat ca ser1 va ser2 nhung khong nam chung ca hai:\n",
      " 0    1\n",
      "1    2\n",
      "2    3\n",
      "3    6\n",
      "4    7\n",
      "5    8\n",
      "dtype: int64\n"
     ]
    }
   ],
   "source": [
    "ser1 = pd.Series([1,2,3,4,5])\n",
    "ser2 = pd.Series([4,5,6,7,8])\n",
    "\n",
    "giao = ser1[ser1.isin(ser2)]\n",
    "result1 = ser1.drop(giao.index)\n",
    "\n",
    "result2 = pd.Series(list(set(ser1).symmetric_difference(set(ser2))))\n",
    "\n",
    "print(\"ser1 sau khi xoa cac muc co mat trong ser2:\\n\",result1)\n",
    "print(\"lay tat ca ser1 va ser2 nhung khong nam chung ca hai:\\n\",result2 )\n"
   ]
  },
  {
   "cell_type": "markdown",
   "metadata": {},
   "source": [
    "#### bai 4.5"
   ]
  },
  {
   "cell_type": "code",
   "execution_count": 11,
   "metadata": {},
   "outputs": [
    {
     "name": "stdout",
     "output_type": "stream",
     "text": [
      "gia tri toi thieu:\n",
      " 1.3217443255649375\n",
      "phan centile thu 25:\n",
      " 3.9290276646830318\n",
      "trung vi:\n",
      " 9.167943033024333\n",
      "phan centile thu 75:\n",
      " 10.75558439910091\n",
      "gia tri toi da:\n",
      " 22.662377577594754\n"
     ]
    }
   ],
   "source": [
    "ser = pd.Series(np.random.normal(10,5,25))\n",
    "\n",
    "min_value = ser.min()\n",
    "percentile_25 = ser.quantile(0.25)\n",
    "median_value = ser.median()\n",
    "percentile_75 = ser.quantile(0.75)\n",
    "max_value = ser.max()\n",
    "\n",
    "print(\"gia tri toi thieu:\\n\", min_value)\n",
    "print(\"phan centile thu 25:\\n\", percentile_25)\n",
    "print(\"trung vi:\\n\",median_value)\n",
    "print(\"phan centile thu 75:\\n\", percentile_75)\n",
    "print(\"gia tri toi da:\\n\", max_value)"
   ]
  },
  {
   "cell_type": "markdown",
   "metadata": {},
   "source": [
    "#### bai 4.6"
   ]
  },
  {
   "cell_type": "code",
   "execution_count": null,
   "metadata": {},
   "outputs": [],
   "source": [
    "ser = pd.Series(np.take(list('abcdefgh'), np.random.randint(8, size=30)))\n",
    "\n",
    "# giải thích ý nghĩa đoạn code \n",
    "#list('abcdefgh'): tạo danh sách gồm các ký tự từ a-h\n",
    "#np.random.randint(8,size=30): tạo 30 số ngẫu nhiên trong khoảng từ 0-7\n",
    "#np.take: lấy phần tử từ danh sách a-h dựa trên các chỉ số ngẫu nhiên\n",
    "#pd.Series: tạo chuỗi pandas\n"
   ]
  },
  {
   "cell_type": "markdown",
   "metadata": {},
   "source": [
    "#### bai 4.7"
   ]
  },
  {
   "cell_type": "code",
   "execution_count": 15,
   "metadata": {},
   "outputs": [
    {
     "name": "stdout",
     "output_type": "stream",
     "text": [
      "ket qua sau khi thay the:\n",
      " 0         2\n",
      "1     Other\n",
      "2         2\n",
      "3         1\n",
      "4     Other\n",
      "5         1\n",
      "6     Other\n",
      "7     Other\n",
      "8         1\n",
      "9         2\n",
      "10    Other\n",
      "11        1\n",
      "dtype: object\n"
     ]
    }
   ],
   "source": [
    "np.random.RandomState(100)\n",
    "ser = pd.Series(np.random.randint(1,5,[12]))\n",
    "\n",
    "top_value = ser.value_counts().nlargest(2).index\n",
    "result = ser.where(ser.isin(top_value),'Other')\n",
    "\n",
    "print(\"ket qua sau khi thay the:\\n\", result)\n"
   ]
  },
  {
   "cell_type": "markdown",
   "metadata": {},
   "source": [
    "#### bai 4.8"
   ]
  },
  {
   "cell_type": "code",
   "execution_count": 19,
   "metadata": {},
   "outputs": [
    {
     "name": "stdout",
     "output_type": "stream",
     "text": [
      "ket qua chia thanh 10 phan:\n",
      "        Value  Phan_vi\n",
      "0   0.769463        8\n",
      "1   0.773972        8\n",
      "2   0.498299        4\n",
      "3   0.917456        9\n",
      "4   0.165865        1\n",
      "5   0.249403        3\n",
      "6   0.577692        6\n",
      "7   0.307224        3\n",
      "8   0.735705        7\n",
      "9   0.166373        1\n",
      "10  0.085533        0\n",
      "11  0.751960        7\n",
      "12  0.568924        5\n",
      "13  0.953723        9\n",
      "14  0.567842        5\n",
      "15  0.117802        0\n",
      "16  0.492886        4\n",
      "17  0.698000        6\n",
      "18  0.234605        2\n",
      "19  0.214552        2\n"
     ]
    }
   ],
   "source": [
    "ser = pd.Series(np.random.random(20))\n",
    "\n",
    "phan_vi = pd.qcut(ser,10,labels=False)\n",
    "result = pd.DataFrame({'Value': ser,'Phan_vi': phan_vi})\n",
    "\n",
    "print(\"ket qua chia thanh 10 phan:\\n\", result)"
   ]
  },
  {
   "cell_type": "markdown",
   "metadata": {},
   "source": [
    "#### bai 4.9"
   ]
  },
  {
   "cell_type": "code",
   "execution_count": 21,
   "metadata": {},
   "outputs": [
    {
     "name": "stdout",
     "output_type": "stream",
     "text": [
      "ket qua sau khi dinh hinh lai:\n",
      "    0  1  2  3  4\n",
      "0  6  6  4  5  5\n",
      "1  4  3  6  8  7\n",
      "2  8  9  5  2  7\n",
      "3  9  2  7  9  9\n",
      "4  8  5  1  1  7\n",
      "5  6  2  5  2  9\n",
      "6  8  7  2  9  3\n"
     ]
    }
   ],
   "source": [
    "ser = pd.Series(np.random.randint(1,10,35))\n",
    "\n",
    "#giải thích ý nghĩa \n",
    "#np.random.randint: tạo ra 35 giá trị ngẫu nhiên từ 1-9\n",
    "#các giá trị được sử dụng để tạo Series của pandas\n",
    "\n",
    "df=pd.DataFrame(ser.values.reshape(7,5))\n",
    "print('ket qua sau khi dinh hinh lai:\\n',df)"
   ]
  },
  {
   "cell_type": "markdown",
   "metadata": {},
   "source": [
    "#### bai 4.10"
   ]
  },
  {
   "cell_type": "code",
   "execution_count": 41,
   "metadata": {},
   "outputs": [
    {
     "name": "stdout",
     "output_type": "stream",
     "text": [
      "vi tri cac so la boi cua 3:\n",
      " Index([6], dtype='int64')\n"
     ]
    }
   ],
   "source": [
    "ser = pd.Series(np.random.randint(1,10,7))\n",
    "\n",
    "vi_tri = ser[ser%3==0].index\n",
    "print(\"vi tri cac so la boi cua 3:\\n\", vi_tri)"
   ]
  },
  {
   "cell_type": "markdown",
   "metadata": {},
   "source": [
    "#### bai 4.11"
   ]
  },
  {
   "cell_type": "code",
   "execution_count": 44,
   "metadata": {},
   "outputs": [
    {
     "name": "stdout",
     "output_type": "stream",
     "text": [
      "cac muc tai cac vi tri trong pos:\n",
      " 0     a\n",
      "4     d\n",
      "8     i\n",
      "14    o\n",
      "20    u\n",
      "dtype: object\n"
     ]
    }
   ],
   "source": [
    "ser = pd.Series(list('abcedfghijklmnopqrstuvwxyz'))\n",
    "pos = [0,4,8,14,20]\n",
    "\n",
    "result= ser.iloc[pos]\n",
    "print(\"cac muc tai cac vi tri trong pos:\\n\", result)"
   ]
  },
  {
   "cell_type": "markdown",
   "metadata": {},
   "source": [
    "#### bai 4.12"
   ]
  },
  {
   "cell_type": "code",
   "execution_count": 45,
   "metadata": {},
   "outputs": [
    {
     "name": "stdout",
     "output_type": "stream",
     "text": [
      "ket qua noi theo chieu doc:\n",
      " 0    0\n",
      "1    1\n",
      "2    2\n",
      "3    3\n",
      "4    4\n",
      "0    a\n",
      "1    b\n",
      "2    c\n",
      "3    d\n",
      "4    e\n",
      "dtype: object\n",
      "ket qua noi theo chieu ngang:\n",
      "    0  1\n",
      "0  0  a\n",
      "1  1  b\n",
      "2  2  c\n",
      "3  3  d\n",
      "4  4  e\n"
     ]
    }
   ],
   "source": [
    "ser1 = pd.Series(range(5))\n",
    "ser2 = pd.Series(list('abcde'))\n",
    "\n",
    "chieu_doc = pd.concat([ser1, ser2], axis=0)\n",
    "chieu_ngang = pd.concat([ser1, ser2], axis=1)\n",
    "\n",
    "print(\"ket qua noi theo chieu doc:\\n\", chieu_doc)\n",
    "print(\"ket qua noi theo chieu ngang:\\n\", chieu_ngang)"
   ]
  },
  {
   "cell_type": "markdown",
   "metadata": {},
   "source": [
    "#### bai 4.13"
   ]
  },
  {
   "cell_type": "code",
   "execution_count": 47,
   "metadata": {},
   "outputs": [],
   "source": [
    "ser1 = pd.Series([10,9,6,5,3,1,12,8,13])\n",
    "ser2 = pd.Series([1,3,10,13])\n",
    "\n"
   ]
  },
  {
   "cell_type": "markdown",
   "metadata": {},
   "source": [
    "#### bai 4.14"
   ]
  },
  {
   "cell_type": "code",
   "execution_count": 51,
   "metadata": {},
   "outputs": [
    {
     "name": "stdout",
     "output_type": "stream",
     "text": [
      "sai so binh phuong cua 2 chuoi la:\n",
      " 0.3331799564152467\n"
     ]
    }
   ],
   "source": [
    "truth = pd.Series(range(10))\n",
    "pred = pd.Series(range(10) + np.random.random(10))\n",
    "\n",
    "result = ((truth - pred) ** 2).mean()\n",
    "print(\"sai so binh phuong cua 2 chuoi la:\\n\", result)"
   ]
  },
  {
   "cell_type": "markdown",
   "metadata": {},
   "source": [
    "#### bai 4.15"
   ]
  },
  {
   "cell_type": "code",
   "execution_count": 52,
   "metadata": {},
   "outputs": [
    {
     "name": "stdout",
     "output_type": "stream",
     "text": [
      "chuyen doi ki tu dau tien cua moi phan tu trong ser thanh chu viet hoa:\n",
      " 0     How\n",
      "1      To\n",
      "2    Kick\n",
      "3    Ass?\n",
      "dtype: object\n"
     ]
    }
   ],
   "source": [
    "ser = pd.Series(['how', 'to', 'kick', 'ass?'])\n",
    "\n",
    "chuyen_doi = ser.str.capitalize()\n",
    "print(\"chuyen doi ki tu dau tien cua moi phan tu trong ser thanh chu viet hoa:\\n\", chuyen_doi)"
   ]
  },
  {
   "cell_type": "markdown",
   "metadata": {},
   "source": [
    "#### bai 4.16"
   ]
  },
  {
   "cell_type": "code",
   "execution_count": 53,
   "metadata": {},
   "outputs": [
    {
     "name": "stdout",
     "output_type": "stream",
     "text": [
      "hieu so giua cac so lien tiep:\n",
      " 1    2.0\n",
      "2    3.0\n",
      "3    4.0\n",
      "4    5.0\n",
      "5    6.0\n",
      "6    6.0\n",
      "7    8.0\n",
      "dtype: float64\n"
     ]
    }
   ],
   "source": [
    "ser = pd.Series([1,3,6,10,15,21,27,35])\n",
    "hieu = ser.diff().dropna()\n",
    "print(\"hieu so giua cac so lien tiep:\\n\",hieu )"
   ]
  },
  {
   "cell_type": "markdown",
   "metadata": {},
   "source": [
    "#### bai 4.17"
   ]
  },
  {
   "cell_type": "code",
   "execution_count": 59,
   "metadata": {},
   "outputs": [
    {
     "data": {
      "text/plain": [
       "0   2010-01-01\n",
       "1          NaT\n",
       "2          NaT\n",
       "3          NaT\n",
       "4          NaT\n",
       "5          NaT\n",
       "dtype: datetime64[ns]"
      ]
     },
     "execution_count": 59,
     "metadata": {},
     "output_type": "execute_result"
    }
   ],
   "source": [
    "ser = pd.Series(['01 Jan 2010','02-02-2011','20120303','2013/04/04','2014-05-05','2015-06-06T12:20'])\n",
    "dates = pd.to_datetime(ser, errors='coerce')\n",
    "dates"
   ]
  },
  {
   "cell_type": "markdown",
   "metadata": {},
   "source": [
    "#### bai 4.18"
   ]
  },
  {
   "cell_type": "code",
   "execution_count": 60,
   "metadata": {},
   "outputs": [
    {
     "data": {
      "text/plain": [
       "1    rameses@egypt.com\n",
       "2            matt@t.co\n",
       "3    narendra@modi.com\n",
       "dtype: object"
      ]
     },
     "execution_count": 60,
     "metadata": {},
     "output_type": "execute_result"
    }
   ],
   "source": [
    "emails = pd.Series(['buying books at amazom.com', 'rameses@egypt.com', 'matt@t.co', 'narendra@modi.com'])\n",
    "pattern = '[A-Za-z0-9._%+-]+@[A-Za-z0-9.-]+\\\\.[A-Za-z]{2,4}'\n",
    "\n",
    "loc_emails = emails[emails.str.contains(pattern, regex=True)]\n",
    "loc_emails"
   ]
  },
  {
   "cell_type": "markdown",
   "metadata": {},
   "source": [
    "#### bai 4.19"
   ]
  },
  {
   "cell_type": "code",
   "execution_count": 7,
   "metadata": {},
   "outputs": [
    {
     "name": "stdout",
     "output_type": "stream",
     "text": [
      "[1.0, 2.0, 3.0, 4.0, 5.0, 6.0, 7.0, 8.0, 9.0, 10.0]\n",
      "['banana', 'apple', 'carrot', 'banana', 'apple', 'banana', 'apple', 'banana', 'apple', 'carrot']\n",
      "khoi luong trung binh tung loai qua:\n",
      " Fruit\n",
      "apple     5.75\n",
      "banana    4.75\n",
      "carrot    6.50\n",
      "Name: Weight, dtype: float64\n"
     ]
    }
   ],
   "source": [
    "fruit = pd.Series(np.random.choice(['apple','banana','carrot'],10))\n",
    "weights = pd.Series(np.linspace(1,10,10))\n",
    "\n",
    "print(weights.tolist())\n",
    "print(fruit.tolist())\n",
    "\n",
    "df = pd.DataFrame({'Fruit': fruit, 'Weight': weights})\n",
    "khoi_luong = df.groupby('Fruit')['Weight'].mean()\n",
    "\n",
    "df\n",
    "print(\"khoi luong trung binh tung loai qua:\\n\", khoi_luong)"
   ]
  },
  {
   "cell_type": "markdown",
   "metadata": {},
   "source": [
    "#### bai 4.20"
   ]
  },
  {
   "cell_type": "code",
   "execution_count": 11,
   "metadata": {},
   "outputs": [
    {
     "name": "stdout",
     "output_type": "stream",
     "text": [
      "Giá trị cột Goals: \n",
      "  0      4\n",
      "1      4\n",
      "2      4\n",
      "3      5\n",
      "4      3\n",
      "5     10\n",
      "6      5\n",
      "7      6\n",
      "8      2\n",
      "9      2\n",
      "10     6\n",
      "11     1\n",
      "12     5\n",
      "13    12\n",
      "14     5\n",
      "15     2\n",
      "Name: Goals, dtype: int64\n",
      "Số đội tham gia Euro 2012:\n",
      " 16\n",
      "<class 'pandas.core.frame.DataFrame'>\n",
      "RangeIndex: 16 entries, 0 to 15\n",
      "Data columns (total 36 columns):\n",
      " #   Column                      Non-Null Count  Dtype  \n",
      "---  ------                      --------------  -----  \n",
      " 0   Unnamed: 0                  16 non-null     int64  \n",
      " 1   Team                        16 non-null     object \n",
      " 2   Goals                       16 non-null     int64  \n",
      " 3   Shots on target             16 non-null     int64  \n",
      " 4   Shots off target            16 non-null     int64  \n",
      " 5   Shooting Accuracy           16 non-null     object \n",
      " 6   % Goals-to-shots            16 non-null     object \n",
      " 7   Total shots (inc. Blocked)  16 non-null     int64  \n",
      " 8   Hit Woodwork                16 non-null     int64  \n",
      " 9   Penalty goals               16 non-null     int64  \n",
      " 10  Penalties not scored        16 non-null     int64  \n",
      " 11  Headed goals                16 non-null     int64  \n",
      " 12  Passes                      16 non-null     int64  \n",
      " 13  Passes completed            16 non-null     int64  \n",
      " 14  Passing Accuracy            16 non-null     object \n",
      " 15  Touches                     16 non-null     int64  \n",
      " 16  Crosses                     16 non-null     int64  \n",
      " 17  Dribbles                    16 non-null     int64  \n",
      " 18  Corners Taken               16 non-null     int64  \n",
      " 19  Tackles                     16 non-null     int64  \n",
      " 20  Clearances                  16 non-null     int64  \n",
      " 21  Interceptions               16 non-null     int64  \n",
      " 22  Clearances off line         15 non-null     float64\n",
      " 23  Clean Sheets                16 non-null     int64  \n",
      " 24  Blocks                      16 non-null     int64  \n",
      " 25  Goals conceded              16 non-null     int64  \n",
      " 26  Saves made                  16 non-null     int64  \n",
      " 27  Saves-to-shots ratio        16 non-null     object \n",
      " 28  Fouls Won                   16 non-null     int64  \n",
      " 29  Fouls Conceded              16 non-null     int64  \n",
      " 30  Offsides                    16 non-null     int64  \n",
      " 31  Yellow Cards                16 non-null     int64  \n",
      " 32  Red Cards                   16 non-null     int64  \n",
      " 33  Subs on                     16 non-null     int64  \n",
      " 34  Subs off                    16 non-null     int64  \n",
      " 35  Players Used                16 non-null     int64  \n",
      "dtypes: float64(1), int64(30), object(5)\n",
      "memory usage: 4.6+ KB\n",
      "Thông in euro12: \n",
      " None\n"
     ]
    },
    {
     "data": {
      "text/html": [
       "<div>\n",
       "<style scoped>\n",
       "    .dataframe tbody tr th:only-of-type {\n",
       "        vertical-align: middle;\n",
       "    }\n",
       "\n",
       "    .dataframe tbody tr th {\n",
       "        vertical-align: top;\n",
       "    }\n",
       "\n",
       "    .dataframe thead th {\n",
       "        text-align: right;\n",
       "    }\n",
       "</style>\n",
       "<table border=\"1\" class=\"dataframe\">\n",
       "  <thead>\n",
       "    <tr style=\"text-align: right;\">\n",
       "      <th></th>\n",
       "      <th>Shooting Accuracy</th>\n",
       "      <th>Goals</th>\n",
       "    </tr>\n",
       "    <tr>\n",
       "      <th>Team</th>\n",
       "      <th></th>\n",
       "      <th></th>\n",
       "    </tr>\n",
       "  </thead>\n",
       "  <tbody>\n",
       "    <tr>\n",
       "      <th>England</th>\n",
       "      <td>50.00%</td>\n",
       "      <td>5</td>\n",
       "    </tr>\n",
       "    <tr>\n",
       "      <th>Italy</th>\n",
       "      <td>43.00%</td>\n",
       "      <td>6</td>\n",
       "    </tr>\n",
       "    <tr>\n",
       "      <th>Russia</th>\n",
       "      <td>22.50%</td>\n",
       "      <td>5</td>\n",
       "    </tr>\n",
       "  </tbody>\n",
       "</table>\n",
       "</div>"
      ],
      "text/plain": [
       "        Shooting Accuracy  Goals\n",
       "Team                            \n",
       "England            50.00%      5\n",
       "Italy              43.00%      6\n",
       "Russia             22.50%      5"
      ]
     },
     "execution_count": 11,
     "metadata": {},
     "output_type": "execute_result"
    }
   ],
   "source": [
    "import pandas as pd\n",
    "import numpy as np\n",
    "df = pd.read_csv('euro2012.csv')\n",
    "#1. In giá trị của cột 'Goals'\n",
    "print(\"Giá trị cột Goals: \\n \",df['Goals'])\n",
    "\n",
    "#2. Có bao nhiêu đội tham gia Euro 2012?\n",
    "print(\"Số đội tham gia Euro 2012:\\n\", df['Team'].nunique())\n",
    "\n",
    "#3. In thông tin của euro12\n",
    "print(\"Thông in euro12: \\n\",df.info())\n",
    "\n",
    "#4. Tạo DataFrame mới chỉ có 3 cột 'Team' và 'Yellow Cards' và 'Red Cards'\n",
    "discipline = df[['Team', 'Yellow Cards', 'Red Cards']]\n",
    "discipline\n",
    "\n",
    "#5. Sắp xếp theo số thẻ 'Red Cards' và 'Yellow Cards'\n",
    "discipline_sorted = discipline.sort_values(by=['Red Cards', 'Yellow Cards'], ascending=False)\n",
    "discipline_sorted\n",
    "\n",
    "#6. a) Tình trung bình Yellow Cards\n",
    "np.mean(discipline['Yellow Cards'])\n",
    "\n",
    "# b) Lọc các đội đã ghi hơn 6 bàn thắng\n",
    "teams= df[df['Goals'] > 6]\n",
    "teams\n",
    "\n",
    "#7. Tìm các đội có tên bắt đầu bằng chữ 'G'\n",
    "teams_start_with_G = df[df['Team'].str.startswith('G')]\n",
    "teams_start_with_G\n",
    "\n",
    "#8. Hiển thị 7 cột đầu của DataFrame\n",
    "df.iloc[:, :7]\n",
    "\n",
    "#9. In tất cả các cột trừ 3 cột cuối\n",
    "df.iloc[:, :-3]\n",
    "\n",
    "#10. In các cột 'Team', 'Goals', 'Shooting Accuracy', 'Yellow Cards', 'Red Cards' cho các đội 'England', 'Italy', 'Russia'\n",
    "selected_teams = df[df['Team'].isin(['England', 'Italy', 'Russia'])][['Team', 'Goals', 'Shooting Accuracy', 'Yellow Cards', 'Red Cards']]\n",
    "selected_teams\n",
    "\n",
    "#11. In các cột chỉ hiển thị 'Team','Shooting Accuracy' từ 'England', 'Italy', 'Russia\n",
    "data_euro_index = df.set_index('Team')\n",
    "data_euro_index\n",
    "data_euro_index.loc[['England','Italy','Russia'],['Shooting Accuracy','Goals']]"
   ]
  },
  {
   "cell_type": "markdown",
   "metadata": {},
   "source": [
    "#### bai 4.21"
   ]
  },
  {
   "cell_type": "code",
   "execution_count": 12,
   "metadata": {},
   "outputs": [
    {
     "name": "stdout",
     "output_type": "stream",
     "text": [
      "Kiểu dữ liệu: <class 'pandas.core.frame.DataFrame'>\n",
      "Kích thước DataFrame: (193, 6)\n",
      "\n",
      "Tên các cột trong DataFrame:\n",
      "Index(['country', 'beer_servings', 'spirit_servings', 'wine_servings',\n",
      "       'total_litres_of_pure_alcohol', 'continent'],\n",
      "      dtype='object')\n",
      "\n",
      "5 dòng đầu:\n",
      "       country  beer_servings  ...  total_litres_of_pure_alcohol  continent\n",
      "0  Afghanistan              0  ...                           0.0         AS\n",
      "1      Albania             89  ...                           4.9         EU\n",
      "2      Algeria             25  ...                           0.7         AF\n",
      "3      Andorra            245  ...                          12.4         EU\n",
      "4       Angola            217  ...                           5.9         AF\n",
      "\n",
      "[5 rows x 6 columns]\n",
      "\n",
      "5 dòng cuối:\n",
      "       country  beer_servings  ...  total_litres_of_pure_alcohol  continent\n",
      "188  Venezuela            333  ...                           7.7         SA\n",
      "189    Vietnam            111  ...                           2.0         AS\n",
      "190      Yemen              6  ...                           0.1         AS\n",
      "191     Zambia             32  ...                           2.5         AF\n",
      "192   Zimbabwe             64  ...                           4.7         AF\n",
      "\n",
      "[5 rows x 6 columns]\n",
      "\n",
      "Số lượng bia tiêu thụ trung bình ở mỗi châu lục:\n",
      "continent\n",
      "AF     61.471698\n",
      "AS     37.045455\n",
      "EU    193.777778\n",
      "OC     89.687500\n",
      "SA    175.083333\n",
      "Name: beer_servings, dtype: float64\n",
      "\n",
      "Thông tin thống kê tổng quát về các loại đồ uống:\n",
      "       beer_servings  ...  total_litres_of_pure_alcohol\n",
      "count     193.000000  ...                    193.000000\n",
      "mean      106.160622  ...                      4.717098\n",
      "std       101.143103  ...                      3.773298\n",
      "min         0.000000  ...                      0.000000\n",
      "25%        20.000000  ...                      1.300000\n",
      "50%        76.000000  ...                      4.200000\n",
      "75%       188.000000  ...                      7.200000\n",
      "max       376.000000  ...                     14.400000\n",
      "\n",
      "[8 rows x 4 columns]\n",
      "\n",
      "Lượng tiêu thụ trung bình các loại bia và rượu ở mỗi châu lục:\n",
      "           beer_servings  wine_servings\n",
      "continent                              \n",
      "AF             61.471698      16.264151\n",
      "AS             37.045455       9.068182\n",
      "EU            193.777778     142.222222\n",
      "OC             89.687500      35.625000\n",
      "SA            175.083333      62.416667\n",
      "\n",
      "Giá trị trung vị của bia và rượu tiêu thụ ở mỗi châu lục:\n",
      "           beer_servings  wine_servings\n",
      "continent                              \n",
      "AF                  32.0            2.0\n",
      "AS                  17.5            1.0\n",
      "EU                 219.0          128.0\n",
      "OC                  52.5            8.5\n",
      "SA                 162.5           12.0\n",
      "\n",
      "Lượng rượu mạnh tiêu thụ trung bình, lớn nhất và nhỏ nhất ở mỗi châu lục:\n",
      "                 mean  max  min\n",
      "continent                      \n",
      "AF          16.339623  152    0\n",
      "AS          60.840909  326    0\n",
      "EU         132.555556  373    0\n",
      "OC          58.437500  254    0\n",
      "SA         114.750000  302   25\n",
      "\n",
      "Dữ liệu sắp xếp theo số lượng bia tiêu thụ tăng dần:\n",
      "            country  beer_servings  ...  total_litres_of_pure_alcohol  continent\n",
      "0       Afghanistan              0  ...                           0.0         AS\n",
      "40     Cook Islands              0  ...                           5.9         OC\n",
      "79             Iran              0  ...                           0.0         AS\n",
      "90           Kuwait              0  ...                           0.0         AS\n",
      "97            Libya              0  ...                           0.0         AF\n",
      "..              ...            ...  ...                           ...        ...\n",
      "135          Poland            343  ...                          10.9         EU\n",
      "65          Germany            346  ...                          11.3         EU\n",
      "62            Gabon            347  ...                           8.9         AF\n",
      "45   Czech Republic            361  ...                          11.8         EU\n",
      "117         Namibia            376  ...                           6.8         AF\n",
      "\n",
      "[193 rows x 6 columns]\n",
      "\n",
      "5 quốc gia tiêu thụ bia nhiều nhất:\n",
      "            country  beer_servings  ...  total_litres_of_pure_alcohol  continent\n",
      "117         Namibia            376  ...                           6.8         AF\n",
      "45   Czech Republic            361  ...                          11.8         EU\n",
      "62            Gabon            347  ...                           8.9         AF\n",
      "65          Germany            346  ...                          11.3         EU\n",
      "98        Lithuania            343  ...                          12.9         EU\n",
      "\n",
      "[5 rows x 6 columns]\n",
      "\n",
      "5 quốc gia tiêu thụ bia ít nhất:\n",
      "         country  beer_servings  ...  total_litres_of_pure_alcohol  continent\n",
      "0    Afghanistan              0  ...                           0.0         AS\n",
      "13    Bangladesh              0  ...                           0.0         AS\n",
      "40  Cook Islands              0  ...                           5.9         OC\n",
      "46   North Korea              0  ...                           0.0         AS\n",
      "79          Iran              0  ...                           0.0         AS\n",
      "\n",
      "[5 rows x 6 columns]\n"
     ]
    }
   ],
   "source": [
    "\n",
    "#1. Đọc dữ liệu từ file drinks.csv, với cột đầu tiên làm index\n",
    "df = pd.read_csv('drinks.csv', index_col=0)\n",
    "\n",
    "#Hiển thị kiểu dữ liệu (type) và kích thước (shape) của DataFrame\n",
    "print(\"Kiểu dữ liệu:\", type(df))\n",
    "print(\"Kích thước DataFrame:\", df.shape)\n",
    "\n",
    "#Hiển thị tên các cột\n",
    "print(\"\\nTên các cột trong DataFrame:\")\n",
    "print(df.columns)\n",
    "\n",
    "#Xem 5 dòng đầu và cuối của dữ liệu\n",
    "print(\"\\n5 dòng đầu:\")\n",
    "print(df.head())\n",
    "print(\"\\n5 dòng cuối:\")\n",
    "print(df.tail())\n",
    "\n",
    "#2. Cho biết số lượng bia tiêu thụ trung bình ở mỗi châu lục\n",
    "print(\"\\nSố lượng bia tiêu thụ trung bình ở mỗi châu lục:\")\n",
    "print(df.groupby('continent')['beer_servings'].mean())\n",
    "\n",
    "#3. Thống kê tổng quát về dữ liệu đồ uống (describe)\n",
    "print(\"\\nThông tin thống kê tổng quát về các loại đồ uống:\")\n",
    "print(df.describe())\n",
    "\n",
    "#4. Số lượng các loại bia và rượu tiêu thụ trung bình (mean) ở mỗi châu lục\n",
    "print(\"\\nLượng tiêu thụ trung bình các loại bia và rượu ở mỗi châu lục:\")\n",
    "print(df.groupby('continent')[['beer_servings', 'wine_servings']].mean())\n",
    "\n",
    "#5. Giá trị trung vị (median) của bia và rượu tiêu thụ ở mỗi châu lục\n",
    "print(\"\\nGiá trị trung vị của bia và rượu tiêu thụ ở mỗi châu lục:\")\n",
    "print(df.groupby('continent')[['beer_servings', 'wine_servings']].median())\n",
    "\n",
    "#6. Thống kê lượng rượu mạnh (spirit_servings) tiêu thụ trung bình, lớn nhất và nhỏ nhất ở mỗi châu lục\n",
    "print(\"\\nLượng rượu mạnh tiêu thụ trung bình, lớn nhất và nhỏ nhất ở mỗi châu lục:\")\n",
    "print(df.groupby('continent')['spirit_servings'].agg(['mean', 'max', 'min']))\n",
    "\n",
    "#7. Sắp xếp dữ liệu tăng dần theo số lượng bia tiêu thụ\n",
    "df_sorted = df.sort_values(by='beer_servings', ascending=True)\n",
    "print(\"\\nDữ liệu sắp xếp theo số lượng bia tiêu thụ tăng dần:\")\n",
    "print(df_sorted)\n",
    "\n",
    "#Cho biết 5 quốc gia có lượng tiêu thụ bia nhiều nhất\n",
    "print(\"\\n5 quốc gia tiêu thụ bia nhiều nhất:\")\n",
    "print(df.nlargest(5, 'beer_servings'))\n",
    "\n",
    "#Cho biết 5 quốc gia có lượng tiêu thụ bia ít nhất\n",
    "print(\"\\n5 quốc gia tiêu thụ bia ít nhất:\")\n",
    "print(df.nsmallest(5, 'beer_servings'))\n"
   ]
  }
 ],
 "metadata": {
  "kernelspec": {
   "display_name": "base",
   "language": "python",
   "name": "python3"
  },
  "language_info": {
   "codemirror_mode": {
    "name": "ipython",
    "version": 3
   },
   "file_extension": ".py",
   "mimetype": "text/x-python",
   "name": "python",
   "nbconvert_exporter": "python",
   "pygments_lexer": "ipython3",
   "version": "3.12.4"
  }
 },
 "nbformat": 4,
 "nbformat_minor": 2
}
