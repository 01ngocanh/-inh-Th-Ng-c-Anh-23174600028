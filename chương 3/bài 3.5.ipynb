{
 "cells": [
  {
   "cell_type": "code",
   "execution_count": 1,
   "metadata": {},
   "outputs": [
    {
     "name": "stderr",
     "output_type": "stream",
     "text": [
      "<>:3: SyntaxWarning: invalid escape sequence '\\c'\n",
      "<>:3: SyntaxWarning: invalid escape sequence '\\c'\n",
      "C:\\Users\\OS\\AppData\\Local\\Temp\\ipykernel_10856\\196569651.py:3: SyntaxWarning: invalid escape sequence '\\c'\n",
      "  with open('D:/2024-2025/python nâng cao/17a2-vd\\chương_3/bài tập chương 3/heights_1.txt','r',encoding='utf-8-sig') as f:\n"
     ]
    },
    {
     "name": "stdout",
     "output_type": "stream",
     "text": [
      "[74.0, 74.0, 72.0, 72.0, 73.0, 69.0, 69.0, 71.0, 76.0, 71.0, 73.0, 73.0, 74.0, 74.0, 69.0, 70.0, 73.0, 75.0, 78.0, 79.0, 76.0, 74.0, 76.0, 72.0, 71.0, 75.0, 77.0, 74.0, 73.0, 74.0, 78.0, 73.0, 75.0, 73.0, 75.0, 75.0, 74.0, 69.0, 71.0, 74.0, 73.0, 73.0, 76.0, 74.0, 74.0, 70.0, 72.0, 77.0, 74.0, 70.0, 73.0, 75.0, 76.0, 76.0, 78.0, 74.0, 74.0, 76.0, 77.0, 81.0, 78.0, 75.0, 77.0, 75.0, 76.0, 74.0, 72.0, 72.0, 75.0, 73.0, 73.0, 73.0, 70.0, 70.0, 70.0, 76.0, 68.0, 71.0, 72.0, 75.0, 75.0, 75.0, 75.0, 68.0, 74.0, 78.0, 71.0, 73.0, 76.0, 74.0, 74.0, 79.0, 75.0, 73.0, 76.0, 74.0, 74.0, 73.0, 72.0, 74.0, 73.0, 74.0, 72.0, 73.0, 69.0, 72.0, 73.0, 75.0, 75.0, 73.0, 72.0, 72.0, 76.0, 74.0, 72.0, 77.0, 74.0, 77.0, 75.0, 76.0, 80.0, 74.0, 74.0, 75.0, 78.0, 73.0, 73.0, 74.0, 75.0, 76.0, 71.0, 73.0, 74.0, 76.0, 76.0, 74.0, 73.0, 74.0, 70.0, 72.0, 73.0, 73.0, 73.0, 73.0, 71.0, 74.0, 74.0, 72.0, 74.0, 71.0, 74.0, 73.0, 75.0, 75.0, 79.0, 73.0, 75.0, 76.0, 74.0, 76.0, 78.0, 74.0, 76.0, 72.0, 74.0, 76.0, 74.0, 75.0, 78.0, 75.0, 72.0, 74.0, 72.0, 74.0, 70.0, 71.0, 70.0, 75.0, 71.0, 71.0, 73.0, 72.0, 71.0, 73.0, 72.0, 75.0, 74.0, 74.0, 75.0, 73.0, 77.0, 73.0, 76.0, 75.0, 74.0, 76.0, 75.0, 73.0, 71.0, 76.0, 75.0, 72.0, 71.0, 77.0, 73.0, 74.0, 71.0, 72.0, 74.0, 75.0, 73.0, 72.0, 75.0, 75.0, 74.0, 72.0, 74.0, 71.0, 70.0, 74.0, 77.0, 77.0, 75.0, 75.0, 78.0, 75.0, 76.0, 73.0, 75.0, 75.0, 79.0, 77.0, 76.0, 71.0, 75.0, 74.0, 69.0, 71.0, 76.0, 72.0, 72.0, 70.0, 72.0, 73.0, 71.0, 72.0, 71.0, 73.0, 72.0, 73.0, 74.0, 74.0, 72.0, 75.0, 74.0, 74.0, 77.0, 75.0, 73.0, 72.0, 71.0, 74.0, 77.0, 75.0, 75.0, 75.0, 78.0, 78.0, 74.0, 76.0, 78.0, 76.0, 70.0, 72.0, 80.0, 74.0, 74.0, 71.0, 70.0, 72.0, 71.0, 74.0, 71.0, 72.0, 71.0, 74.0, 69.0, 76.0, 75.0, 75.0, 76.0, 73.0, 76.0, 73.0, 77.0, 73.0, 72.0, 72.0, 77.0, 77.0, 71.0, 74.0, 74.0, 73.0, 78.0, 75.0, 73.0, 70.0, 74.0, 72.0, 73.0, 73.0, 75.0, 75.0, 74.0, 76.0, 73.0, 74.0, 75.0, 75.0, 72.0, 73.0, 73.0, 72.0, 74.0, 78.0, 76.0, 73.0, 74.0, 75.0, 70.0, 75.0, 71.0, 72.0, 78.0, 75.0, 73.0, 73.0, 71.0, 75.0, 77.0, 72.0, 69.0, 73.0, 74.0, 72.0, 70.0, 75.0, 70.0, 72.0, 72.0, 74.0, 73.0, 74.0, 76.0, 75.0, 80.0, 72.0, 75.0, 73.0, 74.0, 74.0, 73.0, 75.0, 75.0, 71.0, 73.0, 75.0, 74.0, 74.0, 72.0, 74.0, 74.0, 74.0, 73.0, 76.0, 75.0, 72.0, 73.0, 73.0, 73.0, 72.0, 72.0, 72.0, 72.0, 71.0, 75.0, 75.0, 74.0, 73.0, 75.0, 79.0, 74.0, 76.0, 73.0, 74.0, 74.0, 72.0, 74.0, 74.0, 75.0, 78.0, 74.0, 74.0, 74.0, 77.0, 70.0, 73.0, 74.0, 73.0, 71.0, 75.0, 71.0, 72.0, 77.0, 74.0, 70.0, 77.0, 73.0, 72.0, 76.0, 71.0, 76.0, 78.0, 75.0, 73.0, 78.0, 74.0, 79.0, 75.0, 76.0, 72.0, 75.0, 75.0, 70.0, 72.0, 70.0, 74.0, 71.0, 76.0, 73.0, 76.0, 71.0, 69.0, 72.0, 72.0, 69.0, 73.0, 69.0, 73.0, 74.0, 74.0, 72.0, 71.0, 72.0, 72.0, 76.0, 76.0, 76.0, 74.0, 76.0, 75.0, 71.0, 72.0, 71.0, 73.0, 75.0, 76.0, 75.0, 71.0, 75.0, 74.0, 72.0, 73.0, 73.0, 73.0, 73.0, 76.0, 72.0, 76.0, 73.0, 73.0, 73.0, 75.0, 75.0, 77.0, 73.0, 72.0, 75.0, 70.0, 74.0, 72.0, 80.0, 71.0, 71.0, 74.0, 74.0, 73.0, 75.0, 76.0, 73.0, 77.0, 72.0, 73.0, 77.0, 76.0, 71.0, 75.0, 73.0, 74.0, 77.0, 71.0, 72.0, 73.0, 69.0, 73.0, 70.0, 74.0, 76.0, 73.0, 73.0, 75.0, 73.0, 79.0, 74.0, 73.0, 74.0, 77.0, 75.0, 74.0, 73.0, 77.0, 73.0, 77.0, 74.0, 74.0, 73.0, 77.0, 74.0, 77.0, 75.0, 77.0, 75.0, 71.0, 74.0, 70.0, 79.0, 72.0, 72.0, 70.0, 74.0, 74.0, 72.0, 73.0, 72.0, 74.0, 74.0, 76.0, 82.0, 74.0, 74.0, 70.0, 73.0, 73.0, 74.0, 77.0, 72.0, 76.0, 73.0, 73.0, 72.0, 74.0, 74.0, 71.0, 72.0, 75.0, 74.0, 74.0, 77.0, 70.0, 71.0, 73.0, 76.0, 71.0, 75.0, 74.0, 72.0, 76.0, 79.0, 76.0, 73.0, 76.0, 78.0, 75.0, 76.0, 72.0, 72.0, 73.0, 73.0, 75.0, 71.0, 76.0, 70.0, 75.0, 74.0, 75.0, 73.0, 71.0, 71.0, 72.0, 73.0, 73.0, 72.0, 69.0, 73.0, 78.0, 71.0, 73.0, 75.0, 76.0, 70.0, 74.0, 77.0, 75.0, 79.0, 72.0, 77.0, 73.0, 75.0, 75.0, 75.0, 73.0, 73.0, 76.0, 77.0, 75.0, 70.0, 71.0, 71.0, 75.0, 74.0, 69.0, 70.0, 75.0, 72.0, 75.0, 73.0, 72.0, 72.0, 72.0, 76.0, 75.0, 74.0, 69.0, 73.0, 72.0, 72.0, 75.0, 77.0, 76.0, 80.0, 77.0, 76.0, 79.0, 71.0, 75.0, 73.0, 76.0, 77.0, 73.0, 76.0, 70.0, 75.0, 73.0, 75.0, 70.0, 69.0, 71.0, 72.0, 72.0, 73.0, 70.0, 70.0, 73.0, 76.0, 75.0, 72.0, 73.0, 79.0, 71.0, 72.0, 74.0, 74.0, 74.0, 72.0, 76.0, 76.0, 72.0, 72.0, 71.0, 72.0, 72.0, 70.0, 77.0, 74.0, 72.0, 76.0, 71.0, 76.0, 71.0, 73.0, 70.0, 73.0, 73.0, 72.0, 71.0, 71.0, 71.0, 72.0, 72.0, 74.0, 74.0, 74.0, 71.0, 72.0, 75.0, 72.0, 71.0, 72.0, 72.0, 72.0, 72.0, 74.0, 74.0, 77.0, 75.0, 73.0, 75.0, 73.0, 76.0, 72.0, 77.0, 75.0, 72.0, 71.0, 71.0, 75.0, 72.0, 73.0, 73.0, 71.0, 70.0, 75.0, 71.0, 76.0, 73.0, 68.0, 71.0, 72.0, 74.0, 77.0, 72.0, 76.0, 78.0, 81.0, 72.0, 73.0, 76.0, 72.0, 72.0, 74.0, 76.0, 73.0, 76.0, 75.0, 70.0, 71.0, 74.0, 72.0, 73.0, 76.0, 76.0, 73.0, 71.0, 68.0, 71.0, 71.0, 74.0, 77.0, 69.0, 72.0, 76.0, 75.0, 76.0, 75.0, 76.0, 72.0, 74.0, 76.0, 74.0, 72.0, 75.0, 78.0, 77.0, 70.0, 72.0, 79.0, 74.0, 71.0, 68.0, 77.0, 75.0, 71.0, 72.0, 70.0, 72.0, 72.0, 73.0, 72.0, 74.0, 72.0, 72.0, 75.0, 72.0, 73.0, 74.0, 72.0, 78.0, 75.0, 72.0, 74.0, 75.0, 75.0, 76.0, 74.0, 74.0, 73.0, 74.0, 71.0, 74.0, 75.0, 76.0, 74.0, 76.0, 76.0, 73.0, 75.0, 75.0, 74.0, 68.0, 72.0, 75.0, 71.0, 70.0, 72.0, 73.0, 72.0, 75.0, 74.0, 70.0, 76.0, 71.0, 82.0, 72.0, 73.0, 74.0, 71.0, 75.0, 77.0, 72.0, 74.0, 72.0, 73.0, 78.0, 77.0, 73.0, 73.0, 73.0, 73.0, 73.0, 76.0, 75.0, 70.0, 73.0, 72.0, 73.0, 75.0, 74.0, 73.0, 73.0, 76.0, 73.0, 75.0, 70.0, 77.0, 72.0, 77.0, 74.0, 75.0, 75.0, 75.0, 75.0, 72.0, 74.0, 71.0, 76.0, 71.0, 75.0, 76.0, 83.0, 75.0, 74.0, 76.0, 72.0, 72.0, 75.0, 75.0, 72.0, 77.0, 73.0, 72.0, 70.0, 74.0, 72.0, 74.0, 72.0, 71.0, 70.0, 71.0, 76.0, 74.0, 76.0, 74.0, 74.0, 74.0, 75.0, 75.0, 71.0, 71.0, 74.0, 77.0, 71.0, 74.0, 75.0, 77.0, 76.0, 74.0, 76.0, 72.0, 71.0, 72.0, 75.0, 73.0, 68.0, 72.0, 69.0, 73.0, 73.0, 75.0, 70.0, 70.0, 74.0, 75.0, 74.0, 74.0, 73.0, 74.0, 75.0, 77.0, 73.0, 74.0, 76.0, 74.0, 75.0, 73.0, 76.0, 78.0, 75.0, 73.0, 77.0, 74.0, 72.0, 74.0, 72.0, 71.0, 73.0, 75.0, 73.0, 67.0, 67.0, 76.0, 74.0, 73.0, 70.0, 75.0, 70.0, 72.0, 77.0, 79.0, 78.0, 74.0, 75.0, 75.0, 78.0, 76.0, 75.0, 69.0, 75.0, 72.0, 75.0, 73.0, 74.0, 75.0, 75.0, 73.0]\n"
     ]
    }
   ],
   "source": [
    "import numpy as np\n",
    "\n",
    "with open('D:/2024-2025/python nâng cao/17a2-vd\\chương_3/bài tập chương 3/heights_1.txt','r',encoding='utf-8-sig') as f:\n",
    "    height =f.readlines()\n",
    "    height = list(height[0].split(','))\n",
    "    list_height=list(map(lambda x:float(x),height))\n",
    "print(list_height)\n",
    "with open('D:/2024-2025/python nâng cao/17a2-vd/chương_3/bài tập chương 3/heights_1.txt','r',encoding='utf-8-sig') as f:\n",
    "    weight =f.readlines()\n",
    "    weight = list(weight[0].split(','))\n",
    "    list_weight=list(map(lambda x:float(x),weight))"
   ]
  },
  {
   "cell_type": "markdown",
   "metadata": {},
   "source": [
    "#### 1. Tạo numpy array arr height từ list height"
   ]
  },
  {
   "cell_type": "code",
   "execution_count": 5,
   "metadata": {},
   "outputs": [
    {
     "data": {
      "text/plain": [
       "array([74., 74., 72., ..., 75., 75., 73.])"
      ]
     },
     "execution_count": 5,
     "metadata": {},
     "output_type": "execute_result"
    }
   ],
   "source": [
    "arr_height = np.array(list_height)\n",
    "arr_height"
   ]
  },
  {
   "cell_type": "markdown",
   "metadata": {},
   "source": [
    "#### 2. Tạo numpy array arr_ weight từ list weight"
   ]
  },
  {
   "cell_type": "code",
   "execution_count": 6,
   "metadata": {},
   "outputs": [
    {
     "data": {
      "text/plain": [
       "array([74., 74., 72., ..., 75., 75., 73.])"
      ]
     },
     "execution_count": 6,
     "metadata": {},
     "output_type": "execute_result"
    }
   ],
   "source": [
    "arr_weight = np.array(list_weight)\n",
    "arr_height"
   ]
  },
  {
   "cell_type": "markdown",
   "metadata": {},
   "source": [
    "#### 3. Cho hệ số quy đổi từ inch sang m là 0.0254, tạo arr height_m dựa trên công thức: arr_height * hệ số quy đổi"
   ]
  },
  {
   "cell_type": "code",
   "execution_count": 7,
   "metadata": {},
   "outputs": [
    {
     "data": {
      "text/plain": [
       "array([1.8796, 1.8796, 1.8288, ..., 1.905 , 1.905 , 1.8542])"
      ]
     },
     "execution_count": 7,
     "metadata": {},
     "output_type": "execute_result"
    }
   ],
   "source": [
    "arr_height_m = np.array([i *0.0254 for i in arr_height])\n",
    "arr_height_m"
   ]
  },
  {
   "cell_type": "markdown",
   "metadata": {},
   "source": [
    "#### 4. Cho hệ số quy đổi từ pound sang kg là 0.453592, tạo arr_weight_kg dựa trên công thức: arr_weight * hệ số quy đổi"
   ]
  },
  {
   "cell_type": "code",
   "execution_count": 8,
   "metadata": {},
   "outputs": [
    {
     "data": {
      "text/plain": [
       "array([33.565808, 33.565808, 32.658624, ..., 34.0194  , 34.0194  ,\n",
       "       33.112216])"
      ]
     },
     "execution_count": 8,
     "metadata": {},
     "output_type": "execute_result"
    }
   ],
   "source": [
    "arr_weight_kg  =np.array([i* 0.453592 for i in arr_weight])\n",
    "arr_weight_kg"
   ]
  },
  {
   "cell_type": "markdown",
   "metadata": {},
   "source": [
    "#### 5. Tính BMI của arr height_m và arr_weight kg theo công thức BMI = Cần nặng / (Chiều cao * Chiều cao), và lưu vào arr_bmi"
   ]
  },
  {
   "cell_type": "code",
   "execution_count": 9,
   "metadata": {},
   "outputs": [],
   "source": [
    "arr_BMI = np.array([])\n",
    "for i in range(0,len(arr_height)):\n",
    "    arr_BMI = np.append(arr_BMI,arr_weight_kg[i]/(arr_height_m[i]*arr_height_m[i]))"
   ]
  },
  {
   "cell_type": "markdown",
   "metadata": {},
   "source": [
    "#### 6. Cho biết giá trị cân nặng ở vị trí index = 50 trong arr_weight_kg"
   ]
  },
  {
   "cell_type": "code",
   "execution_count": 10,
   "metadata": {},
   "outputs": [
    {
     "name": "stdout",
     "output_type": "stream",
     "text": [
      "33.112216\n"
     ]
    }
   ],
   "source": [
    "print(arr_weight_kg[50])"
   ]
  },
  {
   "cell_type": "markdown",
   "metadata": {},
   "source": [
    "#### 7. Tạo art_height_m_100 gồm các phần tử có vị trí index từ 100 đến 110 (lấy cả index 110) trong arr_height_m"
   ]
  },
  {
   "cell_type": "code",
   "execution_count": 12,
   "metadata": {},
   "outputs": [
    {
     "data": {
      "text/plain": [
       "array([1.8542, 1.8796, 1.8288, 1.8542, 1.7526, 1.8288, 1.8542, 1.905 ,\n",
       "       1.905 , 1.8542, 1.8288])"
      ]
     },
     "execution_count": 12,
     "metadata": {},
     "output_type": "execute_result"
    }
   ],
   "source": [
    "arr_height_m_100 = arr_height_m[100:111]\n",
    "arr_height_m_100"
   ]
  },
  {
   "cell_type": "markdown",
   "metadata": {},
   "source": [
    "#### 8. Cho biết các cầu thủ bóng chày có bmi < 21 trong arr_bmi"
   ]
  },
  {
   "cell_type": "code",
   "execution_count": 13,
   "metadata": {},
   "outputs": [
    {
     "name": "stdout",
     "output_type": "stream",
     "text": [
      "Các cầu thủ có BMI < 21: [9.50093252 9.50093252 9.76484731 ... 9.37425342 9.37425342 9.63108228]\n"
     ]
    }
   ],
   "source": [
    "bmi_less_than_21 = arr_BMI[arr_BMI<21]\n",
    "print(\"Các cầu thủ có BMI < 21:\", bmi_less_than_21)"
   ]
  },
  {
   "cell_type": "markdown",
   "metadata": {},
   "source": [
    "#### 9. Cho biết chiều cao trung bình và cân nặng trung bình của các cầu thủ"
   ]
  },
  {
   "cell_type": "code",
   "execution_count": 14,
   "metadata": {},
   "outputs": [
    {
     "name": "stdout",
     "output_type": "stream",
     "text": [
      "chiều cao trung bình: 1.8717172413793102\n",
      "cân nặng trung bình 33.42503806896551\n"
     ]
    }
   ],
   "source": [
    "average_height = np.sum(arr_height_m)/arr_height_m.size\n",
    "print(\"chiều cao trung bình:\",average_height)\n",
    "average_weight = np.sum(arr_weight_kg)/arr_weight_kg.size\n",
    "print(\"cân nặng trung bình\",average_weight)"
   ]
  },
  {
   "cell_type": "markdown",
   "metadata": {},
   "source": [
    "#### 10. Cho biết chiều cao và cân nặng lớn nhất của các cầu thủ"
   ]
  },
  {
   "cell_type": "code",
   "execution_count": 15,
   "metadata": {},
   "outputs": [
    {
     "name": "stdout",
     "output_type": "stream",
     "text": [
      "chiều cao lớn nhất 2.1082\n",
      "cân nạng cao nhất 37.648136\n"
     ]
    }
   ],
   "source": [
    "max_height = np.sort(arr_height_m)[-1]\n",
    "print(\"chiều cao lớn nhất\",max_height)\n",
    "max_weight = np.sort(arr_weight_kg)[-1]\n",
    "print(\"cân nạng cao nhất\",max_weight)"
   ]
  },
  {
   "cell_type": "markdown",
   "metadata": {},
   "source": [
    "#### 11. Cho biết chiều cao và cân nặng nhỏ nhất của các cầu thủ"
   ]
  },
  {
   "cell_type": "code",
   "execution_count": 16,
   "metadata": {},
   "outputs": [
    {
     "name": "stdout",
     "output_type": "stream",
     "text": [
      "chiều cao nhỏ nhất 1.7018\n",
      "cân nạng nhỏ nhất 30.390664\n"
     ]
    }
   ],
   "source": [
    "min_height = np.sort(arr_height_m)[0]\n",
    "print(\"chiều cao nhỏ nhất\",min_height)\n",
    "min_weight = np.sort(arr_weight_kg)[0]\n",
    "print(\"cân nạng nhỏ nhất\",min_weight)"
   ]
  }
 ],
 "metadata": {
  "kernelspec": {
   "display_name": "base",
   "language": "python",
   "name": "python3"
  },
  "language_info": {
   "codemirror_mode": {
    "name": "ipython",
    "version": 3
   },
   "file_extension": ".py",
   "mimetype": "text/x-python",
   "name": "python",
   "nbconvert_exporter": "python",
   "pygments_lexer": "ipython3",
   "version": "3.12.4"
  }
 },
 "nbformat": 4,
 "nbformat_minor": 2
}
