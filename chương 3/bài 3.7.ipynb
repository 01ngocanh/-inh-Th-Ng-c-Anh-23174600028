{
 "cells": [
  {
   "cell_type": "code",
   "execution_count": 4,
   "metadata": {},
   "outputs": [],
   "source": [
    "import numpy as np"
   ]
  },
  {
   "cell_type": "markdown",
   "metadata": {},
   "source": [
    "#### 1. Tạo 2D numpy array tên np_ baseball từ baseball. Xem kiểu dữ liệu và kích thước của np_baseball"
   ]
  },
  {
   "cell_type": "code",
   "execution_count": 6,
   "metadata": {},
   "outputs": [
    {
     "name": "stdout",
     "output_type": "stream",
     "text": [
      "<class 'numpy.ndarray'>\n"
     ]
    }
   ],
   "source": [
    "with open('D:/2024-2025/python nâng cao/17a2-vd/chương_3/bài tập chương 3/baseball_2D.txt','r',encoding='utf-8-sig') as f:\n",
    "    a= f.readlines()\n",
    "    a = a[0]\n",
    "    a = a.replace('[',' ')\n",
    "    a = a.replace(']',' ')\n",
    "    a= list(map(lambda x:int(x),a.split(',')))\n",
    "np_baseball =  np.array(a).reshape((1015,2))\n",
    "print(type(np_baseball))"
   ]
  },
  {
   "cell_type": "markdown",
   "metadata": {},
   "source": [
    "#### 2. In các giá trị của dòng thứ 50 trong np_ baseball"
   ]
  },
  {
   "cell_type": "code",
   "execution_count": 7,
   "metadata": {},
   "outputs": [
    {
     "name": "stdout",
     "output_type": "stream",
     "text": [
      "[ 70 195]\n"
     ]
    }
   ],
   "source": [
    "print(np_baseball[49,:])"
   ]
  },
  {
   "cell_type": "markdown",
   "metadata": {},
   "source": [
    "#### 3. Tạo numpy array np_ weight với dữ liệu được lấy từ cột hai của np_ baseball"
   ]
  },
  {
   "cell_type": "code",
   "execution_count": 8,
   "metadata": {},
   "outputs": [
    {
     "name": "stdout",
     "output_type": "stream",
     "text": [
      "[[180 215 210 ... 205 190 195]]\n"
     ]
    }
   ],
   "source": [
    "np_weight = np.array([np_baseball[:,1]])\n",
    "print(np_weight)"
   ]
  },
  {
   "cell_type": "markdown",
   "metadata": {},
   "source": [
    "#### 4. Cho biết chiều cao của vận động viên thứ 124"
   ]
  },
  {
   "cell_type": "code",
   "execution_count": 9,
   "metadata": {},
   "outputs": [
    {
     "name": "stdout",
     "output_type": "stream",
     "text": [
      "75\n"
     ]
    }
   ],
   "source": [
    "print(np_baseball[123][0])"
   ]
  },
  {
   "cell_type": "markdown",
   "metadata": {},
   "source": [
    "#### 5. Cho biết chiều cao trung bình, cân nặng trung bình của các cầu thủ"
   ]
  },
  {
   "cell_type": "code",
   "execution_count": 10,
   "metadata": {},
   "outputs": [
    {
     "name": "stdout",
     "output_type": "stream",
     "text": [
      "chiều cao trung bình: 36.8448275862069\n",
      "cân nặng trung bình: 100.67438423645321\n"
     ]
    }
   ],
   "source": [
    "print('chiều cao trung bình:',np.sum(np_baseball[:,0])/np_baseball.size)\n",
    "print('cân nặng trung bình:',np.sum(np_baseball[:,1])/np_baseball.size)"
   ]
  },
  {
   "cell_type": "markdown",
   "metadata": {},
   "source": [
    "#### 6. Bạn nhận xét gì về mối tương quan giữa chiều cao và cân nặng của các cầu thủ: có/ không có tương quan, tương quan thuận/nghịch"
   ]
  }
 ],
 "metadata": {
  "kernelspec": {
   "display_name": "base",
   "language": "python",
   "name": "python3"
  },
  "language_info": {
   "codemirror_mode": {
    "name": "ipython",
    "version": 3
   },
   "file_extension": ".py",
   "mimetype": "text/x-python",
   "name": "python",
   "nbconvert_exporter": "python",
   "pygments_lexer": "ipython3",
   "version": "3.12.4"
  }
 },
 "nbformat": 4,
 "nbformat_minor": 2
}
