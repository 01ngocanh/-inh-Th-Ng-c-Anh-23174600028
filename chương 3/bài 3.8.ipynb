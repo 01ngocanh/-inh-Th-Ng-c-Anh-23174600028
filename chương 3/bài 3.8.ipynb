{
 "cells": [
  {
   "cell_type": "code",
   "execution_count": 1,
   "metadata": {},
   "outputs": [],
   "source": [
    "import numpy as np\n",
    "\n",
    "with open(r'D:/2024-2025/python nâng cao/17a2-vd/chương_3/bài tập chương 3/heights.txt', 'r', encoding='utf-8-sig') as f:\n",
    "    read = f.readlines()\n",
    "    heights = list(map(lambda x: float(x), read[0].split(',')))\n",
    "\n",
    "with open(r'D:/2024-2025/python nâng cao/17a2-vd/chương_3/bài tập chương 3/positions.txt', 'r', encoding='utf-8-sig') as f:\n",
    "    read = f.readlines()\n",
    "    positions = read[0].split(',')"
   ]
  },
  {
   "cell_type": "markdown",
   "metadata": {},
   "source": [
    "#### 1. a. Tạo numpy array np_positions từ list positions. Xem kiểu dữ liệu của np_positions"
   ]
  },
  {
   "cell_type": "code",
   "execution_count": 2,
   "metadata": {},
   "outputs": [
    {
     "name": "stdout",
     "output_type": "stream",
     "text": [
      "<U2\n",
      "<class 'numpy.ndarray'>\n"
     ]
    }
   ],
   "source": [
    "np_positions = np.array(positions)\n",
    "print(np_positions.dtype)\n",
    "print(type(np_positions))"
   ]
  },
  {
   "cell_type": "markdown",
   "metadata": {},
   "source": [
    "b. Tạo numpy array np_ heights từ list heights. Xem kiểu dữ liệu của np_heights"
   ]
  },
  {
   "cell_type": "code",
   "execution_count": 3,
   "metadata": {},
   "outputs": [
    {
     "name": "stdout",
     "output_type": "stream",
     "text": [
      "float64\n",
      "<class 'numpy.ndarray'>\n"
     ]
    }
   ],
   "source": [
    "np_heights = np.array(heights)\n",
    "print(np_heights.dtype)\n",
    "print(type(np_heights))"
   ]
  },
  {
   "cell_type": "markdown",
   "metadata": {},
   "source": [
    "#### 2. Tính chiều cao trung bình của các GK"
   ]
  },
  {
   "cell_type": "code",
   "execution_count": 4,
   "metadata": {},
   "outputs": [
    {
     "name": "stdout",
     "output_type": "stream",
     "text": [
      "chiều cao trung bình gk: 188.23333333333332\n"
     ]
    }
   ],
   "source": [
    "mean_gk = np_heights[np_positions == 'GK']\n",
    "print('chiều cao trung bình gk:', np.mean(mean_gk))"
   ]
  },
  {
   "cell_type": "markdown",
   "metadata": {},
   "source": [
    "#### 3. Tính chiều cao trung bình của những vị trí khác (Không phải là GK)"
   ]
  },
  {
   "cell_type": "code",
   "execution_count": null,
   "metadata": {},
   "outputs": [],
   "source": [
    "other_heights = np_heights[np_positions != 'GK']\n",
    "print('chiều cao trung bình vị trí khác:', np.mean(other_heights))"
   ]
  },
  {
   "cell_type": "markdown",
   "metadata": {},
   "source": [
    "#### 4. Tạo mảng dữ liệu có cấu trúc tự định nghĩa players gồm 'position' kiểu văn bản (U5) và 'height\" kiểu 'float\""
   ]
  },
  {
   "cell_type": "code",
   "execution_count": 6,
   "metadata": {},
   "outputs": [
    {
     "name": "stdout",
     "output_type": "stream",
     "text": [
      "[('GK', 191.) ('M', 184.) ('A', 185.) ... ('D', 183.) ('D', 179.)\n",
      " ('M', 179.)]\n"
     ]
    }
   ],
   "source": [
    "players = np.zeros(len(np_positions), dtype={'names': ('position', 'height'), 'formats': ('U5', 'f8')})\n",
    "players['position'] = np_positions\n",
    "players['height'] = np_heights\n",
    "print(players)"
   ]
  },
  {
   "cell_type": "markdown",
   "metadata": {},
   "source": [
    "#### 5. Sắp mảng players theo height, cho biết vị trí có chiều cao cao nhất và chiều cao thấp nhất"
   ]
  },
  {
   "cell_type": "code",
   "execution_count": 7,
   "metadata": {},
   "outputs": [
    {
     "name": "stdout",
     "output_type": "stream",
     "text": [
      "[('M', 158.) ('A', 160.) ('M', 160.) ... ('A', 203.) ('GK', 203.)\n",
      " ('GK', 208.)]\n",
      "vị trí có chiều cao cao nhất: ('GK', 208.)\n",
      "vị trí có chiều cao thấp nhất: ('M', 158.)\n"
     ]
    }
   ],
   "source": [
    "sorted_players = np.sort(players, order='height')\n",
    "print(sorted_players)\n",
    "print('vị trí có chiều cao cao nhất:', sorted_players[-1])\n",
    "print('vị trí có chiều cao thấp nhất:', sorted_players[0])"
   ]
  }
 ],
 "metadata": {
  "kernelspec": {
   "display_name": "base",
   "language": "python",
   "name": "python3"
  },
  "language_info": {
   "codemirror_mode": {
    "name": "ipython",
    "version": 3
   },
   "file_extension": ".py",
   "mimetype": "text/x-python",
   "name": "python",
   "nbconvert_exporter": "python",
   "pygments_lexer": "ipython3",
   "version": "3.12.4"
  }
 },
 "nbformat": 4,
 "nbformat_minor": 2
}
